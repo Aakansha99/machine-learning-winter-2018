{
 "cells": [
  {
   "cell_type": "code",
   "execution_count": 2,
   "metadata": {},
   "outputs": [],
   "source": [
    "import numpy as np\n"
   ]
  },
  {
   "cell_type": "code",
   "execution_count": 3,
   "metadata": {},
   "outputs": [
    {
     "name": "stdout",
     "output_type": "stream",
     "text": [
      "[ 1  2  3  4  5  6  7  8 10]\n"
     ]
    }
   ],
   "source": [
    "x = np.array([1,2,3,4,5,6,7,8,10])\n",
    "\n",
    "print(x)"
   ]
  },
  {
   "cell_type": "code",
   "execution_count": 12,
   "metadata": {},
   "outputs": [
    {
     "name": "stdout",
     "output_type": "stream",
     "text": [
      "[0 1 2 3 4 5 6 7 8 9]\n"
     ]
    }
   ],
   "source": [
    "x = np.arange(10)\n",
    "print(x)"
   ]
  },
  {
   "cell_type": "code",
   "execution_count": null,
   "metadata": {},
   "outputs": [],
   "source": []
  },
  {
   "cell_type": "code",
   "execution_count": 13,
   "metadata": {},
   "outputs": [
    {
     "name": "stdout",
     "output_type": "stream",
     "text": [
      "[25 16  9  4  1  0  1  4  9 16]\n"
     ]
    }
   ],
   "source": [
    "def error(x):\n",
    "    return (x-5)**2\n",
    "\n",
    "fx = error(x)\n",
    "print(fx)"
   ]
  },
  {
   "cell_type": "code",
   "execution_count": 17,
   "metadata": {},
   "outputs": [],
   "source": [
    "import matplotlib.pyplot as plt"
   ]
  },
  {
   "cell_type": "code",
   "execution_count": 18,
   "metadata": {},
   "outputs": [
    {
     "data": {
      "image/png": "[encoded data removed]",
      "text/plain": [
       "<Figure size 432x288 with 1 Axes>"
      ]
     },
     "metadata": {
      "needs_background": "light"
     },
     "output_type": "display_data"
    }
   ],
   "source": [
    "plt.plot(x,fx)\n",
    "plt.ylabel(\"F(X)\")\n",
    "plt.xlabel(\"X\")\n",
    "plt.show()"
   ]
  },
  {
   "cell_type": "code",
   "execution_count": 58,
   "metadata": {},
   "outputs": [],
   "source": [
    "def gradientDescent():\n",
    "    \n",
    "    x_ = 2.0\n",
    "    \n",
    "    learning_rate = 0.1\n",
    "    plt.plot(x,fx)\n",
    "    \n",
    "    for i in range(60):\n",
    "        x_ = x_ - learning_rate*2*(x_-5)\n",
    "        print(\"X %.3f Error %.2f\"%(x_,error(x_)))\n",
    "        plt.scatter(x_,error(x_))\n",
    "        \n",
    "    return x_"
   ]
  },
  {
   "cell_type": "code",
   "execution_count": 59,
   "metadata": {},
   "outputs": [
    {
     "name": "stdout",
     "output_type": "stream",
     "text": [
      "X 2.600 Error 5.76\n",
      "X 3.080 Error 3.69\n",
      "X 3.464 Error 2.36\n",
      "X 3.771 Error 1.51\n",
      "X 4.017 Error 0.97\n",
      "X 4.214 Error 0.62\n",
      "X 4.371 Error 0.40\n",
      "X 4.497 Error 0.25\n",
      "X 4.597 Error 0.16\n",
      "X 4.678 Error 0.10\n",
      "X 4.742 Error 0.07\n",
      "X 4.794 Error 0.04\n",
      "X 4.835 Error 0.03\n",
      "X 4.868 Error 0.02\n",
      "X 4.894 Error 0.01\n",
      "X 4.916 Error 0.01\n",
      "X 4.932 Error 0.00\n",
      "X 4.946 Error 0.00\n",
      "X 4.957 Error 0.00\n",
      "X 4.965 Error 0.00\n",
      "X 4.972 Error 0.00\n",
      "X 4.978 Error 0.00\n",
      "X 4.982 Error 0.00\n",
      "X 4.986 Error 0.00\n",
      "X 4.989 Error 0.00\n",
      "X 4.991 Error 0.00\n",
      "X 4.993 Error 0.00\n",
      "X 4.994 Error 0.00\n",
      "X 4.995 Error 0.00\n",
      "X 4.996 Error 0.00\n",
      "X 4.997 Error 0.00\n",
      "X 4.998 Error 0.00\n",
      "X 4.998 Error 0.00\n",
      "X 4.998 Error 0.00\n",
      "X 4.999 Error 0.00\n",
      "X 4.999 Error 0.00\n",
      "X 4.999 Error 0.00\n",
      "X 4.999 Error 0.00\n",
      "X 5.000 Error 0.00\n",
      "X 5.000 Error 0.00\n",
      "X 5.000 Error 0.00\n",
      "X 5.000 Error 0.00\n",
      "X 5.000 Error 0.00\n",
      "X 5.000 Error 0.00\n",
      "X 5.000 Error 0.00\n",
      "X 5.000 Error 0.00\n",
      "X 5.000 Error 0.00\n",
      "X 5.000 Error 0.00\n",
      "X 5.000 Error 0.00\n",
      "X 5.000 Error 0.00\n",
      "X 5.000 Error 0.00\n",
      "X 5.000 Error 0.00\n",
      "X 5.000 Error 0.00\n",
      "X 5.000 Error 0.00\n",
      "X 5.000 Error 0.00\n",
      "X 5.000 Error 0.00\n",
      "X 5.000 Error 0.00\n",
      "X 5.000 Error 0.00\n",
      "X 5.000 Error 0.00\n",
      "X 5.000 Error 0.00\n"
     ]
    },
    {
     "data": {
      "text/plain": [
       "4.9999954025133775"
      ]
     },
     "execution_count": 59,
     "metadata": {},
     "output_type": "execute_result"
    },
    {
     "data": {
      "image/png": "[encoded data removed]",
      "text/plain": [
       "<Figure size 432x288 with 1 Axes>"
      ]
     },
     "metadata": {
      "needs_background": "light"
     },
     "output_type": "display_data"
    }
   ],
   "source": [
    "gradientDescent()"
   ]
  },
  {
   "cell_type": "code",
   "execution_count": null,
   "metadata": {},
   "outputs": [],
   "source": []
  }
 ],
 "metadata": {
  "kernelspec": {
   "display_name": "Python 3",
   "language": "python",
   "name": "python3"
  },
  "language_info": {
   "codemirror_mode": {
    "name": "ipython",
    "version": 3
   },
   "file_extension": ".py",
   "mimetype": "text/x-python",
   "name": "python",
   "nbconvert_exporter": "python",
   "pygments_lexer": "ipython3",
   "version": "3.6.1"
  }
 },
 "nbformat": 4,
 "nbformat_minor": 2
}
