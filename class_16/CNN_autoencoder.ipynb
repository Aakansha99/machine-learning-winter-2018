{
 "cells": [
  {
   "cell_type": "code",
   "execution_count": 4,
   "metadata": {},
   "outputs": [],
   "source": [
    "import numpy as np\n",
    "import pandas as pd\n",
    "import matplotlib.pyplot as plt\n",
    "\n",
    "from keras.layers import Input, Dense, Activation, Flatten, Reshape, Conv2D, MaxPooling2D, UpSampling2D, ZeroPadding2D\n",
    "from keras.models import Model"
   ]
  },
  {
   "cell_type": "code",
   "execution_count": 3,
   "metadata": {},
   "outputs": [
    {
     "name": "stdout",
     "output_type": "stream",
     "text": [
      "((60000, 28, 28, 1), (60000, 28, 28, 1))\n"
     ]
    }
   ],
   "source": [
    "X = pd.read_csv(\"/home/vasu/Downloads/fashion-mnist_train.csv\").values\n",
    "\n",
    "X = X[:,1:]\n",
    "X = X/255.0\n",
    "\n",
    "X = X.reshape((X.shape[0],28,28,1))\n",
    "\n",
    "Y = X\n",
    "\n",
    "print (X.shape,Y.shape)"
   ]
  },
  {
   "cell_type": "code",
   "execution_count": 13,
   "metadata": {},
   "outputs": [
    {
     "name": "stdout",
     "output_type": "stream",
     "text": [
      "_________________________________________________________________\n",
      "Layer (type)                 Output Shape              Param #   \n",
      "=================================================================\n",
      "input_6 (InputLayer)         (None, 28, 28, 1)         0         \n",
      "_________________________________________________________________\n",
      "conv2d_31 (Conv2D)           (None, 26, 26, 64)        640       \n",
      "_________________________________________________________________\n",
      "max_pooling2d_11 (MaxPooling (None, 13, 13, 64)        0         \n",
      "_________________________________________________________________\n",
      "conv2d_32 (Conv2D)           (None, 11, 11, 32)        18464     \n",
      "_________________________________________________________________\n",
      "max_pooling2d_12 (MaxPooling (None, 5, 5, 32)          0         \n",
      "_________________________________________________________________\n",
      "conv2d_33 (Conv2D)           (None, 3, 3, 8)           2312      \n",
      "_________________________________________________________________\n",
      "flatten_6 (Flatten)          (None, 72)                0         \n",
      "_________________________________________________________________\n",
      "dense_14 (Dense)             (None, 2)                 146       \n",
      "_________________________________________________________________\n",
      "dense_15 (Dense)             (None, 72)                216       \n",
      "_________________________________________________________________\n",
      "reshape_6 (Reshape)          (None, 3, 3, 8)           0         \n",
      "_________________________________________________________________\n",
      "zero_padding2d_11 (ZeroPaddi (None, 5, 5, 8)           0         \n",
      "_________________________________________________________________\n",
      "conv2d_34 (Conv2D)           (None, 5, 5, 32)          2336      \n",
      "_________________________________________________________________\n",
      "up_sampling2d_11 (UpSampling (None, 10, 10, 32)        0         \n",
      "_________________________________________________________________\n",
      "zero_padding2d_12 (ZeroPaddi (None, 14, 14, 32)        0         \n",
      "_________________________________________________________________\n",
      "conv2d_35 (Conv2D)           (None, 14, 14, 64)        18496     \n",
      "_________________________________________________________________\n",
      "up_sampling2d_12 (UpSampling (None, 28, 28, 64)        0         \n",
      "_________________________________________________________________\n",
      "conv2d_36 (Conv2D)           (None, 28, 28, 1)         577       \n",
      "=================================================================\n",
      "Total params: 43,187\n",
      "Trainable params: 43,187\n",
      "Non-trainable params: 0\n",
      "_________________________________________________________________\n"
     ]
    }
   ],
   "source": [
    "#encoder\n",
    "\n",
    "inp = Input(shape=(28,28,1))\n",
    "\n",
    "c1 = Conv2D(64, (3,3), activation='relu')(inp)\n",
    "m1 = MaxPooling2D((2,2))(c1)\n",
    "c2 = Conv2D(32, (3,3), activation='relu')(m1)\n",
    "m2 = MaxPooling2D((2,2))(c2)\n",
    "c3 = Conv2D(8, (3,3), activation='relu')(m2)\n",
    "f1 = Flatten()(c3)\n",
    "d2 = Dense(2, activation='relu')(f1)\n",
    "\n",
    "# decoder\n",
    "\n",
    "d3 = Dense(72, activation='relu')(d2)\n",
    "r1 = Reshape((3,3,8))(d3)\n",
    "zp1 = ZeroPadding2D((1,1))(r1)\n",
    "c4 = Conv2D(32, (3,3), activation='relu', padding='same')(zp1)\n",
    "up1 = UpSampling2D((2,2))(c4)\n",
    "zp2 = ZeroPadding2D((2,2))(up1)\n",
    "c5 = Conv2D(64, (3,3), activation='relu', padding='same')(zp2)\n",
    "up2 = UpSampling2D((2,2))(c5)\n",
    "c6 = Conv2D(1, (3,3), activation='relu', padding='same')(up2)\n",
    "\n",
    "model = Model(inputs=inp,outputs=c6)\n",
    "encoder = Model(inputs=inp, outputs=d2)\n",
    "act_map = Model(inputs=inp,outputs=c5)\n",
    "\n",
    "model.summary()"
   ]
  },
  {
   "cell_type": "code",
   "execution_count": 10,
   "metadata": {},
   "outputs": [
    {
     "name": "stdout",
     "output_type": "stream",
     "text": [
      "_________________________________________________________________\n",
      "Layer (type)                 Output Shape              Param #   \n",
      "=================================================================\n",
      "input_5 (InputLayer)         (None, 28, 28, 1)         0         \n",
      "_________________________________________________________________\n",
      "conv2d_25 (Conv2D)           (None, 26, 26, 64)        640       \n",
      "_________________________________________________________________\n",
      "max_pooling2d_9 (MaxPooling2 (None, 13, 13, 64)        0         \n",
      "_________________________________________________________________\n",
      "conv2d_26 (Conv2D)           (None, 11, 11, 32)        18464     \n",
      "_________________________________________________________________\n",
      "max_pooling2d_10 (MaxPooling (None, 5, 5, 32)          0         \n",
      "_________________________________________________________________\n",
      "conv2d_27 (Conv2D)           (None, 3, 3, 8)           2312      \n",
      "_________________________________________________________________\n",
      "flatten_5 (Flatten)          (None, 72)                0         \n",
      "_________________________________________________________________\n",
      "dense_12 (Dense)             (None, 2)                 146       \n",
      "=================================================================\n",
      "Total params: 21,562\n",
      "Trainable params: 21,562\n",
      "Non-trainable params: 0\n",
      "_________________________________________________________________\n"
     ]
    }
   ],
   "source": [
    "encoder.summary()"
   ]
  },
  {
   "cell_type": "code",
   "execution_count": 14,
   "metadata": {},
   "outputs": [],
   "source": [
    "model.compile(loss='mse', optimizer='adam', metrics=['accuracy'])"
   ]
  },
  {
   "cell_type": "code",
   "execution_count": null,
   "metadata": {},
   "outputs": [
    {
     "name": "stdout",
     "output_type": "stream",
     "text": [
      "Train on 48000 samples, validate on 12000 samples\n",
      "Epoch 1/20\n",
      "48000/48000 [==============================] - 64s 1ms/step - loss: 0.0738 - acc: 0.4919 - val_loss: 0.0646 - val_acc: 0.4902\n",
      "Epoch 2/20\n",
      "48000/48000 [==============================] - 74s 2ms/step - loss: 0.0628 - acc: 0.4917 - val_loss: 0.0589 - val_acc: 0.4932\n",
      "Epoch 3/20\n",
      "48000/48000 [==============================] - 85s 2ms/step - loss: 0.0455 - acc: 0.4954 - val_loss: 0.0413 - val_acc: 0.4954\n",
      "Epoch 4/20\n",
      "48000/48000 [==============================] - 87s 2ms/step - loss: 0.0399 - acc: 0.4966 - val_loss: 0.0391 - val_acc: 0.4963\n",
      "Epoch 5/20\n",
      "48000/48000 [==============================] - 76s 2ms/step - loss: 0.0383 - acc: 0.4970 - val_loss: 0.0382 - val_acc: 0.4958\n",
      "Epoch 6/20\n",
      "48000/48000 [==============================] - 87s 2ms/step - loss: 0.0373 - acc: 0.4973 - val_loss: 0.0372 - val_acc: 0.4973\n",
      "Epoch 7/20\n",
      "13312/48000 [=======>......................] - ETA: 1:03 - loss: 0.0368 - acc: 0.4977"
     ]
    }
   ],
   "source": [
    "hist = model.fit(X,Y,epochs=20,shuffle=True,batch_size=256,validation_split=0.20)"
   ]
  }
 ],
 "metadata": {
  "kernelspec": {
   "display_name": "Python 3",
   "language": "python",
   "name": "python3"
  },
  "language_info": {
   "codemirror_mode": {
    "name": "ipython",
    "version": 2
   },
   "file_extension": ".py",
   "mimetype": "text/x-python",
   "name": "python",
   "nbconvert_exporter": "python",
   "pygments_lexer": "ipython2",
   "version": "2.7.15rc1"
  }
 },
 "nbformat": 4,
 "nbformat_minor": 2
}
