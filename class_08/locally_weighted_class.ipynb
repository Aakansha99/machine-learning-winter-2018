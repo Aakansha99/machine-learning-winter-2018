{
 "cells": [
  {
   "cell_type": "code",
   "execution_count": 13,
   "metadata": {},
   "outputs": [],
   "source": [
    "import numpy as np\n",
    "import pandas as pd\n",
    "import matplotlib.pyplot as plt"
   ]
  },
  {
   "cell_type": "code",
   "execution_count": 71,
   "metadata": {},
   "outputs": [],
   "source": [
    "# 3x^3 -5x^2 + 7x + 2\n",
    "\n",
    "def getData(m):\n",
    "    X = np.random.rand(m,1)\n",
    "    noise = np.random.randn(m,1)\n",
    "    Y = 3*X**5 - X**4 - 12*X**2 + 7*X + 2 + .1*noise\n",
    "    print(noise.shape)\n",
    "    Y = Y.reshape((m,))\n",
    "    return X,Y"
   ]
  },
  {
   "cell_type": "code",
   "execution_count": 72,
   "metadata": {},
   "outputs": [],
   "source": [
    "#np.random.rand?"
   ]
  },
  {
   "cell_type": "code",
   "execution_count": 73,
   "metadata": {},
   "outputs": [
    {
     "name": "stdout",
     "output_type": "stream",
     "text": [
      "(100, 1)\n"
     ]
    }
   ],
   "source": [
    "X,Y = getData(100)"
   ]
  },
  {
   "cell_type": "code",
   "execution_count": 74,
   "metadata": {},
   "outputs": [
    {
     "name": "stdout",
     "output_type": "stream",
     "text": [
      "(100, 1)\n",
      "(100,)\n"
     ]
    }
   ],
   "source": [
    "print(X.shape)\n",
    "print(Y.shape)"
   ]
  },
  {
   "cell_type": "code",
   "execution_count": 76,
   "metadata": {},
   "outputs": [
    {
     "data": {
      "image/png": "[encoded data removed]",
      "text/plain": [
       "<Figure size 576x396 with 1 Axes>"
      ]
     },
     "metadata": {},
     "output_type": "display_data"
    }
   ],
   "source": [
    "plt.style.use(\"seaborn\")\n",
    "plt.scatter(X,Y)\n",
    "plt.show()\n"
   ]
  },
  {
   "cell_type": "code",
   "execution_count": 113,
   "metadata": {},
   "outputs": [],
   "source": [
    "def getW(X,q,tau):\n",
    "    \n",
    "    #Create W\n",
    "    m = X.shape[0]\n",
    "    W = np.eye(m) \n",
    "    \n",
    "    for i in range(m):\n",
    "        W[i,i] = np.exp(-np.dot((X[i]-q),(X[i]-q).T)/(2*tau*tau))\n",
    "    \n",
    "    return W\n",
    "    \n",
    "def getTheta(X,Y,q,tau):\n",
    "    \n",
    "    m = X.shape[0]\n",
    "    ones = np.ones((m,1))\n",
    "    X = np.hstack((ones,X))\n",
    "    W = getW(X,q,tau)\n",
    "    Y = Y.reshape((-1,1))\n",
    "    q = np.array([1,q])\n",
    "    \n",
    "    theta = np.dot(np.linalg.pinv(np.dot(np.dot(X.T,W),X)),np.dot(np.dot(X.T,W),Y))\n",
    "    return theta,W\n",
    "    \n",
    "    "
   ]
  },
  {
   "cell_type": "code",
   "execution_count": 114,
   "metadata": {},
   "outputs": [],
   "source": [
    "theta,W = getTheta(X,Y,0.6,1)"
   ]
  },
  {
   "cell_type": "code",
   "execution_count": 115,
   "metadata": {},
   "outputs": [
    {
     "name": "stdout",
     "output_type": "stream",
     "text": [
      "(2, 1)\n",
      "[[0.8318755  0.         0.         ... 0.         0.         0.        ]\n",
      " [0.         0.89498979 0.         ... 0.         0.         0.        ]\n",
      " [0.         0.         0.86241448 ... 0.         0.         0.        ]\n",
      " ...\n",
      " [0.         0.         0.         ... 0.82642928 0.         0.        ]\n",
      " [0.         0.         0.         ... 0.         0.8985211  0.        ]\n",
      " [0.         0.         0.         ... 0.         0.         0.92247711]]\n"
     ]
    }
   ],
   "source": [
    "print(theta.shape)\n",
    "print(W)"
   ]
  },
  {
   "cell_type": "code",
   "execution_count": 124,
   "metadata": {},
   "outputs": [
    {
     "name": "stdout",
     "output_type": "stream",
     "text": [
      "[0.         0.11111111 0.22222222 0.33333333 0.44444444 0.55555556\n",
      " 0.66666667 0.77777778 0.88888889 1.        ]\n",
      "(10,)\n",
      "[ 2.14127518  2.58348876  2.86429322  2.88106135  2.6327908   2.1353024\n",
      "  1.45286971  0.67175675 -0.18345247 -1.05386941]\n"
     ]
    }
   ],
   "source": [
    "X_Test = np.linspace(0,1,10)\n",
    "print(X_Test)\n",
    "Y_Test = []\n",
    "\n",
    "for xt in X_Test:\n",
    "    theta,W = getTheta(X,Y,xt,0.1)\n",
    "    pred = theta[0][0] + theta[1][0]*xt\n",
    "    Y_Test.append(pred)\n",
    "    \n",
    "Y_Test = np.array(Y_Test)\n",
    "print(Y_Test.shape)\n",
    "print(Y_Test)"
   ]
  },
  {
   "cell_type": "code",
   "execution_count": 125,
   "metadata": {},
   "outputs": [
    {
     "data": {
      "image/png": "[encoded data removed]",
      "text/plain": [
       "<Figure size 576x396 with 1 Axes>"
      ]
     },
     "metadata": {},
     "output_type": "display_data"
    }
   ],
   "source": [
    "plt.scatter(X,Y)\n",
    "plt.scatter(X_Test,Y_Test,c='orange')\n",
    "plt.show()"
   ]
  },
  {
   "cell_type": "code",
   "execution_count": null,
   "metadata": {},
   "outputs": [],
   "source": []
  },
  {
   "cell_type": "code",
   "execution_count": null,
   "metadata": {},
   "outputs": [],
   "source": []
  }
 ],
 "metadata": {
  "kernelspec": {
   "display_name": "Python 3",
   "language": "python",
   "name": "python3"
  },
  "language_info": {
   "codemirror_mode": {
    "name": "ipython",
    "version": 3
   },
   "file_extension": ".py",
   "mimetype": "text/x-python",
   "name": "python",
   "nbconvert_exporter": "python",
   "pygments_lexer": "ipython3",
   "version": "3.6.1"
  }
 },
 "nbformat": 4,
 "nbformat_minor": 2
}
