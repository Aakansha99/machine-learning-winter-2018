{
 "cells": [
  {
   "cell_type": "code",
   "execution_count": 1,
   "metadata": {},
   "outputs": [],
   "source": [
    "import numpy as np\n",
    "import matplotlib.pyplot as plt\n",
    "from sklearn.utils import shuffle\n",
    "from sklearn.datasets import make_moons"
   ]
  },
  {
   "cell_type": "code",
   "execution_count": 2,
   "metadata": {},
   "outputs": [],
   "source": [
    "mean_1 = np.array([0.5,0.5])\n",
    "mean_2 = np.array([3,4])\n",
    "\n",
    "cov_1 = np.array([[1,0.5],[0.5,0.75]])\n",
    "cov_2 = np.array([[1.5,0.1],[0.1,1]])\n",
    "\n",
    "distri_1 = np.random.multivariate_normal(mean_1,cov_1,500)\n",
    "distri_2 = np.random.multivariate_normal(mean_2,cov_2,500)"
   ]
  },
  {
   "cell_type": "code",
   "execution_count": 3,
   "metadata": {},
   "outputs": [
    {
     "name": "stdout",
     "output_type": "stream",
     "text": [
      "((500, 2), (500, 2))\n"
     ]
    }
   ],
   "source": [
    "print (distri_1.shape, distri_2.shape)"
   ]
  },
  {
   "cell_type": "code",
   "execution_count": 4,
   "metadata": {},
   "outputs": [
    {
     "data": {
      "image/png": "[encoded data removed]",
      "text/plain": [
       "<Figure size 432x288 with 1 Axes>"
      ]
     },
     "metadata": {
      "needs_background": "light"
     },
     "output_type": "display_data"
    }
   ],
   "source": [
    "plt.figure()\n",
    "plt.xlim(-4,8)\n",
    "plt.ylim(-4,8)\n",
    "\n",
    "plt.scatter(distri_1[:,0],distri_1[:,1])\n",
    "plt.scatter(distri_2[:,0],distri_2[:,1],color='red')\n",
    "plt.show()"
   ]
  },
  {
   "cell_type": "code",
   "execution_count": 5,
   "metadata": {},
   "outputs": [
    {
     "name": "stdout",
     "output_type": "stream",
     "text": [
      "((1000, 3), (1000, 1))\n"
     ]
    }
   ],
   "source": [
    "data = np.ones((1000,3)) # r = distri_1.shape[0] + distri_2.shape[0] && c = distri_1.shape[1] + 1\n",
    "labels = np.zeros((1000,1))\n",
    "\n",
    "data[:500,1:] = distri_1\n",
    "data[500:,1:] = distri_2\n",
    "labels[500:,:] = 1.0\n",
    "               \n",
    "print (data.shape, labels.shape)"
   ]
  },
  {
   "cell_type": "code",
   "execution_count": 6,
   "metadata": {},
   "outputs": [
    {
     "data": {
      "text/plain": [
       "array([[ 1.        , -0.6839149 ,  0.80031161],\n",
       "       [ 1.        , -0.17642373, -0.74621771],\n",
       "       [ 1.        ,  2.40659207,  1.15068164],\n",
       "       ...,\n",
       "       [ 1.        ,  1.26213095,  4.75387945],\n",
       "       [ 1.        ,  2.27698789,  3.20166318],\n",
       "       [ 1.        ,  2.08060671,  4.37398622]])"
      ]
     },
     "execution_count": 6,
     "metadata": {},
     "output_type": "execute_result"
    }
   ],
   "source": [
    "data"
   ]
  },
  {
   "cell_type": "code",
   "execution_count": 7,
   "metadata": {},
   "outputs": [],
   "source": [
    "X, y = shuffle(data, labels, random_state=0)"
   ]
  },
  {
   "cell_type": "code",
   "execution_count": 8,
   "metadata": {
    "scrolled": true
   },
   "outputs": [
    {
     "name": "stdout",
     "output_type": "stream",
     "text": [
      "(array([[ 1.        ,  0.74472353,  2.4409789 ],\n",
      "       [ 1.        ,  2.66673885,  4.61478646],\n",
      "       [ 1.        ,  0.14088558, -1.08925318],\n",
      "       [ 1.        ,  2.67485158,  4.4211063 ],\n",
      "       [ 1.        ,  2.9209698 ,  2.68670246]]), array([[1.],\n",
      "       [1.],\n",
      "       [0.],\n",
      "       [1.],\n",
      "       [1.]]))\n"
     ]
    }
   ],
   "source": [
    "print(X[:5],y[:5])"
   ]
  },
  {
   "cell_type": "code",
   "execution_count": 9,
   "metadata": {},
   "outputs": [
    {
     "name": "stdout",
     "output_type": "stream",
     "text": [
      "((800, 3), (800, 1))\n",
      "((200, 3), (200, 1))\n"
     ]
    }
   ],
   "source": [
    "split = int(0.80*X.shape[0])\n",
    "\n",
    "X_train = X[:split,:]\n",
    "X_test = X[split:,:]\n",
    "\n",
    "y_train = y[:split,:]\n",
    "y_test = y[split:,:]\n",
    "\n",
    "print(X_train.shape,y_train.shape)\n",
    "print(X_test.shape,y_test.shape)"
   ]
  },
  {
   "cell_type": "markdown",
   "metadata": {},
   "source": [
    "## Logistic Regression "
   ]
  },
  {
   "cell_type": "code",
   "execution_count": 10,
   "metadata": {},
   "outputs": [],
   "source": [
    "def hypothesis(x,theta):\n",
    "    h = (x*theta).sum()\n",
    "    return sigmod(h)\n",
    "\n",
    "def sigmod(x):\n",
    "    return 1.0 / (1.0 + np.exp(-1.0*x))\n",
    "\n",
    "def get_error(y_true, x, theta):\n",
    "    err = 0.0\n",
    "    \n",
    "    # m = no. of training samples\n",
    "    m = x.shape[0]\n",
    "    \n",
    "    for ix in range(m):\n",
    "        if y_true[ix] == 1:\n",
    "            err += -1.0*np.log2(hypothesis(x[ix],theta))\n",
    "        else:\n",
    "            err += -1.0*np.log2(1-hypothesis(x[ix],theta))\n",
    "    \n",
    "    err /= m\n",
    "    return err\n",
    "\n",
    "def get_grads(y_true, x, theta):\n",
    "    grads = np.zeros(theta.shape)\n",
    "    \n",
    "    m = x.shape[0]\n",
    "    \n",
    "    for ix in range(m):\n",
    "        grads += (y_true[ix] - hypothesis(x[ix],theta))*x[ix]*-1\n",
    "        \n",
    "    grads = grads/m\n",
    "    \n",
    "    return grads\n",
    "\n",
    "def gradient_descent(x, y_true, theta, lr = 0.1):\n",
    "    \n",
    "    err = get_error(y_true,x,theta)\n",
    "    grads = get_grads(y_true,x,theta)\n",
    "    \n",
    "    theta = theta - lr*grads\n",
    "    \n",
    "    return err, theta\n",
    "\n",
    "def predict(x,theta):\n",
    "    prob = hypothesis(x,theta)\n",
    "    \n",
    "    if prob < 0.5:\n",
    "        return 0\n",
    "    else:\n",
    "        return 1\n",
    "\n",
    "def get_accuracy(x_test,y_test, theta):\n",
    "    y_pred = []\n",
    "    for ix in range(x_test.shape[0]):\n",
    "        y_pred.append(predict(x_test[ix],theta))\n",
    "    y_pred = np.array(y_pred).reshape(-1,1)\n",
    "    \n",
    "    return float((y_pred==y_test).sum())/y_test.shape[0]"
   ]
  },
  {
   "cell_type": "code",
   "execution_count": 11,
   "metadata": {},
   "outputs": [
    {
     "name": "stdout",
     "output_type": "stream",
     "text": [
      "[0.         0.96710355 0.52322891]\n"
     ]
    }
   ],
   "source": [
    "loss = []\n",
    "acc = []\n",
    "\n",
    "theta = np.random.random(X_train.shape[1])\n",
    "theta[0] = 0\n",
    "print theta"
   ]
  },
  {
   "cell_type": "code",
   "execution_count": 12,
   "metadata": {},
   "outputs": [],
   "source": [
    "for ix in range(200):\n",
    "    l,theta = gradient_descent(X_train,y_train,theta,lr=0.5)\n",
    "    acc.append(get_accuracy(X_test,y_test,theta))\n",
    "    loss.append(l)"
   ]
  },
  {
   "cell_type": "code",
   "execution_count": 13,
   "metadata": {},
   "outputs": [
    {
     "data": {
      "text/plain": [
       "array([-4.64721217,  0.43167132,  1.86779017])"
      ]
     },
     "execution_count": 13,
     "metadata": {},
     "output_type": "execute_result"
    }
   ],
   "source": [
    "theta"
   ]
  },
  {
   "cell_type": "code",
   "execution_count": 14,
   "metadata": {},
   "outputs": [
    {
     "data": {
      "text/plain": [
       "[0.13698943739863256,\n",
       " 0.13674376635868565,\n",
       " 0.1365002937730554,\n",
       " 0.1362589893699953,\n",
       " 0.13601982344238517,\n",
       " 0.13578276683446325,\n",
       " 0.13554779092893776,\n",
       " 0.13531486763445533,\n",
       " 0.1350839693734267,\n",
       " 0.13485506907018768]"
      ]
     },
     "execution_count": 14,
     "metadata": {},
     "output_type": "execute_result"
    }
   ],
   "source": [
    "loss[-10:]"
   ]
  },
  {
   "cell_type": "code",
   "execution_count": 15,
   "metadata": {},
   "outputs": [
    {
     "data": {
      "text/plain": [
       "[0.975, 0.975, 0.975, 0.975, 0.975, 0.975, 0.975, 0.975, 0.975, 0.975]"
      ]
     },
     "execution_count": 15,
     "metadata": {},
     "output_type": "execute_result"
    }
   ],
   "source": [
    "acc[-10:]"
   ]
  },
  {
   "cell_type": "code",
   "execution_count": 16,
   "metadata": {},
   "outputs": [
    {
     "data": {
      "text/plain": [
       "[<matplotlib.lines.Line2D at 0x7fd76eef8250>]"
      ]
     },
     "execution_count": 16,
     "metadata": {},
     "output_type": "execute_result"
    },
    {
     "data": {
      "image/png": "[encoded data removed]",
      "text/plain": [
       "<Figure size 432x288 with 1 Axes>"
      ]
     },
     "metadata": {
      "needs_background": "light"
     },
     "output_type": "display_data"
    },
    {
     "data": {
      "image/png": "[encoded data removed]",
      "text/plain": [
       "<Figure size 432x288 with 1 Axes>"
      ]
     },
     "metadata": {
      "needs_background": "light"
     },
     "output_type": "display_data"
    }
   ],
   "source": [
    "plt.figure(0)\n",
    "plt.plot(loss)\n",
    "\n",
    "plt.figure(1)\n",
    "plt.plot(acc)"
   ]
  },
  {
   "cell_type": "markdown",
   "metadata": {},
   "source": [
    "## On non-linear data"
   ]
  },
  {
   "cell_type": "code",
   "execution_count": 17,
   "metadata": {},
   "outputs": [],
   "source": [
    "X, y = make_moons(n_samples=1000, shuffle=True, noise = 0.05, random_state=1)"
   ]
  },
  {
   "cell_type": "code",
   "execution_count": 18,
   "metadata": {
    "scrolled": true
   },
   "outputs": [
    {
     "data": {
      "image/png": "[encoded data removed]",
      "text/plain": [
       "<Figure size 432x288 with 1 Axes>"
      ]
     },
     "metadata": {
      "needs_background": "light"
     },
     "output_type": "display_data"
    }
   ],
   "source": [
    "plt.figure()\n",
    "plt.xlim(-2,3)\n",
    "plt.ylim(-2,3)\n",
    "\n",
    "plt.scatter(X[:,0],X[:,1],c=y)\n",
    "plt.show()"
   ]
  },
  {
   "cell_type": "code",
   "execution_count": 19,
   "metadata": {},
   "outputs": [
    {
     "name": "stdout",
     "output_type": "stream",
     "text": [
      "((1000, 3), (1000,))\n"
     ]
    }
   ],
   "source": [
    "X_ = np.ones((1000,3)) # r = distri_1.shape[0] + distri_2.shape[0] && c = distri_1.shape[1] + 1\n",
    "\n",
    "X_[:,1:] = X\n",
    "               \n",
    "print (X_.shape, y.shape)"
   ]
  },
  {
   "cell_type": "code",
   "execution_count": 20,
   "metadata": {},
   "outputs": [
    {
     "data": {
      "text/plain": [
       "array([[ 1.        ,  0.06645624,  0.39819469],\n",
       "       [ 1.        ,  1.40913481, -0.48396229],\n",
       "       [ 1.        , -0.90597929,  0.21777417],\n",
       "       [ 1.        , -0.68590274,  0.78602512],\n",
       "       [ 1.        ,  0.03608008,  1.07239344],\n",
       "       [ 1.        ,  1.860951  ,  0.09188287],\n",
       "       [ 1.        , -0.03595189,  0.98991939],\n",
       "       [ 1.        ,  1.44106672, -0.400926  ],\n",
       "       [ 1.        , -0.4998889 ,  1.10636961],\n",
       "       [ 1.        ,  0.98522437,  0.30899035]])"
      ]
     },
     "execution_count": 20,
     "metadata": {},
     "output_type": "execute_result"
    }
   ],
   "source": [
    "X_[:10]"
   ]
  },
  {
   "cell_type": "code",
   "execution_count": 21,
   "metadata": {},
   "outputs": [
    {
     "name": "stdout",
     "output_type": "stream",
     "text": [
      "((800, 3), (800, 1))\n",
      "((200, 3), (200, 1))\n"
     ]
    }
   ],
   "source": [
    "split = int(0.80*X.shape[0])\n",
    "\n",
    "X_train = X_[:split,:]\n",
    "X_test = X_[split:,:]\n",
    "\n",
    "y_train = y[:split].reshape(-1,1)\n",
    "y_test = y[split:].reshape(-1,1)\n",
    "\n",
    "print(X_train.shape,y_train.shape)\n",
    "print(X_test.shape,y_test.shape)"
   ]
  },
  {
   "cell_type": "code",
   "execution_count": 22,
   "metadata": {},
   "outputs": [
    {
     "name": "stdout",
     "output_type": "stream",
     "text": [
      "[0.         0.66850714 0.54159024]\n"
     ]
    }
   ],
   "source": [
    "loss = []\n",
    "acc = []\n",
    "\n",
    "theta = np.random.random(X_train.shape[1])\n",
    "theta[0] = 0\n",
    "print theta"
   ]
  },
  {
   "cell_type": "code",
   "execution_count": 23,
   "metadata": {},
   "outputs": [],
   "source": [
    "for ix in range(200):\n",
    "    l,theta = gradient_descent(X_train,y_train,theta,lr=0.5)\n",
    "    acc.append(get_accuracy(X_test,y_test,theta))\n",
    "    loss.append(l)"
   ]
  },
  {
   "cell_type": "code",
   "execution_count": 24,
   "metadata": {},
   "outputs": [
    {
     "data": {
      "text/plain": [
       "[0.3790503742596447,\n",
       " 0.3788166432060981,\n",
       " 0.3785854832057477,\n",
       " 0.37835685772979377,\n",
       " 0.37813073089119476,\n",
       " 0.37790706743129,\n",
       " 0.37768583270674766,\n",
       " 0.3774669926768261,\n",
       " 0.3772505138909464,\n",
       " 0.37703636347655545]"
      ]
     },
     "execution_count": 24,
     "metadata": {},
     "output_type": "execute_result"
    }
   ],
   "source": [
    "loss[-10:]"
   ]
  },
  {
   "cell_type": "code",
   "execution_count": 26,
   "metadata": {},
   "outputs": [
    {
     "data": {
      "text/plain": [
       "[<matplotlib.lines.Line2D at 0x7fd76cce2610>]"
      ]
     },
     "execution_count": 26,
     "metadata": {},
     "output_type": "execute_result"
    },
    {
     "data": {
      "image/png": "[encoded data removed]",
      "text/plain": [
       "<Figure size 432x288 with 1 Axes>"
      ]
     },
     "metadata": {
      "needs_background": "light"
     },
     "output_type": "display_data"
    },
    {
     "data": {
      "image/png": "[encoded data removed]",
      "text/plain": [
       "<Figure size 432x288 with 1 Axes>"
      ]
     },
     "metadata": {
      "needs_background": "light"
     },
     "output_type": "display_data"
    }
   ],
   "source": [
    "plt.figure(0)\n",
    "plt.plot(loss)\n",
    "\n",
    "plt.figure(1)\n",
    "plt.plot(acc)"
   ]
  }
 ],
 "metadata": {
  "kernelspec": {
   "display_name": "Python 3",
   "language": "python",
   "name": "python3"
  },
  "language_info": {
   "codemirror_mode": {
    "name": "ipython",
    "version": 2
   },
   "file_extension": ".py",
   "mimetype": "text/x-python",
   "name": "python",
   "nbconvert_exporter": "python",
   "pygments_lexer": "ipython2",
   "version": "2.7.15rc1"
  }
 },
 "nbformat": 4,
 "nbformat_minor": 2
}
