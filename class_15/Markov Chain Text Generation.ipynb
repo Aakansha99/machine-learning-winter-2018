{
 "cells": [
  {
   "cell_type": "code",
   "execution_count": 1,
   "metadata": {},
   "outputs": [],
   "source": [
    "import numpy as np"
   ]
  },
  {
   "cell_type": "markdown",
   "metadata": {},
   "source": [
    "## Data Read"
   ]
  },
  {
   "cell_type": "code",
   "execution_count": 3,
   "metadata": {},
   "outputs": [],
   "source": [
    "def read_data(file):\n",
    "    with open(file) as f:\n",
    "        data = f.read().lower()\n",
    "    return data"
   ]
  },
  {
   "cell_type": "code",
   "execution_count": 11,
   "metadata": {},
   "outputs": [],
   "source": [
    "def combineData(*files):\n",
    "    print(files)\n",
    "    data = \"\"\n",
    "    for f in files:\n",
    "        data += read_data(f)\n",
    "    return data"
   ]
  },
  {
   "cell_type": "code",
   "execution_count": 70,
   "metadata": {},
   "outputs": [
    {
     "data": {
      "text/plain": [
       "\"look, i was gonna go easy on you and not to hurt your feelings\\nbut i'm only going to get this one ch\""
      ]
     },
     "execution_count": 70,
     "metadata": {},
     "output_type": "execute_result"
    }
   ],
   "source": [
    "read_data(FILE1)[:100]"
   ]
  },
  {
   "cell_type": "code",
   "execution_count": 81,
   "metadata": {},
   "outputs": [
    {
     "name": "stdout",
     "output_type": "stream",
     "text": [
      "('./Data_Modi/english_speech_2.txt', './Data_Modi/gst_english.txt')\n",
      "8602\n",
      "('./Data_Modi/english_speech_2.txt', './Data_Modi/gst_english.txt')\n"
     ]
    }
   ],
   "source": [
    "\n",
    "FILE1 = \"./Data_Rap/lyrics1.txt\"\n",
    "FILE2 = \"./Data_Rap/lyrics2.txt\"\n",
    "\n",
    "FILE1 = \"./Data_Modi/english_speech_2.txt\"\n",
    "FILE2 = \"./Data_Modi/gst_english.txt\"\n",
    "\n",
    "print(len(combineData(FILE1,FILE2)))\n",
    "data = combineData(FILE1,FILE2)"
   ]
  },
  {
   "cell_type": "code",
   "execution_count": 93,
   "metadata": {},
   "outputs": [],
   "source": [
    "data = read_data('code.txt')"
   ]
  },
  {
   "cell_type": "markdown",
   "metadata": {},
   "source": [
    "## Setup as Supervised Learning Problem"
   ]
  },
  {
   "cell_type": "code",
   "execution_count": 94,
   "metadata": {},
   "outputs": [],
   "source": [
    "def processData(data,k=4):\n",
    "    T = {}\n",
    "    for i in range(len(data)-k):\n",
    "        X = data[i:i+k]\n",
    "        Y = data[i+k]\n",
    "        \n",
    "        #print(\"X :  %s , Y: %s \"%(X,Y))\n",
    "        \n",
    "        if T.get(X) is None:\n",
    "            T[X] = {}\n",
    "            T[X][Y] = 1\n",
    "        else:\n",
    "            if T[X].get(Y) is None:\n",
    "                T[X][Y] = 1\n",
    "                \n",
    "            else:\n",
    "                T[X][Y] += 1\n",
    "    #Convert Freq into Prob\n",
    "    for ix in T.keys():\n",
    "        s = sum(list(T[ix].values()))\n",
    "        for iy in T[ix].keys():\n",
    "            T[ix][iy] /= s\n",
    "        \n",
    "        \n",
    "    return T"
   ]
  },
  {
   "cell_type": "code",
   "execution_count": 95,
   "metadata": {},
   "outputs": [
    {
     "data": {
      "text/plain": [
       "{'Hell': {'o': 0.6666666666666666, 'i': 0.3333333333333333},\n",
       " 'ello': {' ': 1.0},\n",
       " 'llo ': {'H': 1.0},\n",
       " 'lo H': {'e': 1.0},\n",
       " 'o He': {'l': 1.0},\n",
       " ' Hel': {'l': 1.0}}"
      ]
     },
     "execution_count": 95,
     "metadata": {},
     "output_type": "execute_result"
    }
   ],
   "source": [
    "processData(\"Hello Hello Helli\")"
   ]
  },
  {
   "cell_type": "code",
   "execution_count": 96,
   "metadata": {},
   "outputs": [],
   "source": [
    "T = processData(data)"
   ]
  },
  {
   "cell_type": "code",
   "execution_count": 97,
   "metadata": {},
   "outputs": [],
   "source": [
    "def predict_char(ctx):\n",
    "    \n",
    "    #if ctx is not present generate _\n",
    "    if T.get(ctx) is None:\n",
    "        return \" \"\n",
    "    \n",
    "    possible_keys = list(T[ctx].keys())\n",
    "    possible_probs = list(T[ctx].values())\n",
    "    \n",
    "    #print(possible_keys)\n",
    "    #print(possible_probs)\n",
    "    \n",
    "    return np.random.choice(possible_keys,p=possible_probs)\n",
    "    \n",
    "    \n",
    "    \n",
    "    "
   ]
  },
  {
   "cell_type": "code",
   "execution_count": 98,
   "metadata": {},
   "outputs": [
    {
     "data": {
      "text/plain": [
       "'\"'"
      ]
     },
     "execution_count": 98,
     "metadata": {},
     "output_type": "execute_result"
    }
   ],
   "source": [
    "predict_char(\"look\")"
   ]
  },
  {
   "cell_type": "code",
   "execution_count": 99,
   "metadata": {},
   "outputs": [
    {
     "name": "stdout",
     "output_type": "stream",
     "text": [
      "Burger\n",
      "Burger\n",
      "Burger\n",
      "Noodles\n",
      "Burger\n",
      "Burger\n",
      "Burger\n",
      "Momos\n",
      "Noodles\n",
      "Burger\n"
     ]
    }
   ],
   "source": [
    "l = [\"Burger\",\"Noodles\",\"Momos\"]\n",
    "\n",
    "for i in range(10):\n",
    "    print(np.random.choice(l,p=[0.6,0.2,0.2]))"
   ]
  },
  {
   "cell_type": "code",
   "execution_count": 111,
   "metadata": {},
   "outputs": [],
   "source": [
    "def generateText(ctx, maxLen=3000):\n",
    "    k = 4\n",
    "    sentence = ctx\n",
    "    ctx = sentence[-k:]\n",
    "    \n",
    "    for i in range(maxLen):\n",
    "        next_c = predict_char(ctx)\n",
    "        sentence += next_c\n",
    "        ctx = sentence[-k:]\n",
    "        \n",
    "    return sentence\n",
    "        "
   ]
  },
  {
   "cell_type": "code",
   "execution_count": 112,
   "metadata": {},
   "outputs": [
    {
     "name": "stdout",
     "output_type": "stream",
     "text": [
      "import numpy as f:\n",
      "     \n",
      "        t[x][y] = {}\n",
      "     \n",
      "                \n",
      "     \n",
      "       #print(len(data,k=4):\n",
      "      return sentence[-k:]\n",
      "               #convert freq into processdata = f.read_data[i:i+k]\n",
      "    else:\n",
      "           \n",
      "      t[ix].keys)\n",
      "      \n",
      "        return data[i+k]\n",
      "    print(possible_problem\n",
      "\n",
      "# in[11]:\n",
      "\n",
      "\n",
      "def predict_char(ctx)\n",
      "               print(generatetext(\"dear\"))\n",
      "\n",
      "\n",
      "# in[11]:\n",
      "\n",
      "\n",
      "\n",
      "\n",
      "# in[ ]:\n",
      "\n",
      "\n",
      "def predict_char(ctx):\n",
      "     \n",
      "\n",
      "\n",
      "# in[3]:\n",
      "\n",
      "\n",
      "processdata_rap/lyrics1.txt\"\n",
      "\n",
      "file1)[:100]\n",
      "\n",
      "\n",
      "# in[1]:\n",
      "\n",
      "\n",
      "def read_data[i:i+k]\n",
      "    for i in file1 = \"\"\n",
      "           if t[x][y] += 1\n",
      "    data)-k):\n",
      "     #if ctx is not predict_char(\"look\")\n",
      "\n",
      "\n",
      "# in[85]:\n",
      "\n",
      "\n",
      "predict_char(ctx)\n",
      "    s = sent generate _\n",
      "     ctx = sum(list(t[ctx].values()))\n",
      "    #if ctx is none:\n",
      "          \n",
      "       sentence[-k:]\n",
      "       s = list(t[ctx].keys,p=possible_keys,p=possible_keys)\n",
      "    data\n",
      "\n",
      "\n",
      "# in[11]:\n",
      "\n",
      "\n",
      "\n",
      "\n",
      "\n",
      "# in[82]:\n",
      "\n",
      "\n",
      "def read_data_rap/lyrics1.txt\"\n",
      "\n",
      "print(file1,file2)\n",
      "\n",
      "\n",
      "# ## data(file1 = \"./data_modi/english_speech_2.txt\"\n",
      "\n",
      "file1)[:100]\n",
      "\n",
      "\n",
      "# in[ ]:\n",
      "\n",
      "\n",
      "def processdata,k=4):\n",
      "    t[x][y] = {}\n",
      "         \n",
      "    data_modi/english_speech_2.txt\"\n",
      "\n",
      "file):\n",
      "          return data(*file1 = \"./data\n",
      "\n",
      "\n",
      "# in[70]:\n",
      "\n",
      "\n",
      "def generatetext(ctx):\n",
      "                if t.get(y) is not predict_char(\"look\")\n",
      "\n",
      "\n",
      "# ## setup as np\n",
      "\n",
      "\n",
      "# ## setup as supervised learning processdata(file1 = \"\"\n",
      "           \n",
      "      for ix in t.keys():\n",
      "         t = processdata_rap/lyrics1.txt\"\n",
      "files)\n",
      "    next_c = presentence[-k:]\n",
      "           t[ix][iy] /= s\n",
      "     \n",
      "     \n",
      "       \n",
      "    data = ctx\n",
      "          return np.random.choice(possible_probs)\n",
      "        t[x] = 1\n",
      "     possible_keys)\n",
      "    s = sentence\n",
      "         data(\"hello helli\")\n",
      "\n",
      "\n",
      "# in[83]:\n",
      "\n",
      "\n",
      "read\n",
      "\n",
      "# in[ ]:\n",
      "\n",
      "\n",
      "t = {}\n",
      "                    data(files)\n",
      "     \n",
      "    #if ctx\n",
      "    \n",
      "    if t.get(y) is none:\n",
      "    if t.get(ctx) is not predict_char(ctx):\n",
      "     \n",
      "    return data_rap/lyrics1.txt\"\n",
      "\n",
      "files):\n",
      "     s = list(t[ctx].keys)\n",
      "     print(possible_problem\n",
      "\n",
      "# in[81]:\n",
      "\n",
      "\n",
      "import numpy as np\n",
      "\n",
      "\n",
      "# in[3]:\n",
      "\n",
      "\n",
      "\n",
      "\n",
      "file2)))\n",
      "data\n",
      "\n",
      "\n",
      "# in[86]:\n",
      "\n",
      "\n",
      "processdata += 1\n",
      "            \n",
      "\n",
      "\n",
      "# in[86]:\n",
      "\n",
      "\n",
      "\n",
      "\n",
      "file1,file1 = \"\"\n",
      "    \n",
      "    return \" \"\n",
      "           t[x][y] += read_data_modi/english_speech_2.txt\"\n",
      "\n",
      "file2)\n",
      "\n",
      "\n",
      "# in[85]:\n",
      "\n",
      "\n",
      "def processdata[i:i+k]\n",
      "       return np.random.choice(possible_problem\n",
      "\n",
      "# in[3]:\n",
      "\n",
      "\n",
      "\n",
      "file1,file1)[:100]\n",
      "\n",
      "\n",
      "# in[ ]:\n",
      "\n",
      "\n",
      "t = presentence\n",
      "     for iy in file1 = \"./data_rap/lyrics2.txt\"\n",
      "\n",
      "print(np.random.choice(l,p=[0.6,0.2,0.2]))\n",
      "\n",
      "\n",
      "# in[83]:\n",
      "\n",
      "\n",
      "def processdata[i:i+k]\n",
      "     #print(possible_probs)\n",
      "       sentence = combinedata,k=4):\n",
      "        \n",
      "      \n",
      "\n",
      "\n",
      "# ## data(data(data = f.read_data += read_data[i:i+k]\n",
      "    t[x][y] += 1\n",
      "     for i in range(maxlen):\n",
      "    t[x][y] = {}\n",
      "       \n",
      "    else:\n",
      "    #if ctx = sum(list(t[ctx].values()))\n",
      "    y = data(files)\n",
      "     print(file2 = \"./data(file2 = \"./data(file2 = \"./data_modi/gst_english_speech_2.txt\"\n",
      "file2 = \"./data(files:\n",
      "    t[x].get(y) is not predict_char(\"look\")\n",
      "\n",
      "\n",
      "# in[ ]:\n",
      "\n",
      "\n",
      "t = {}\n",
      "     \n",
      "         t[x] = 1\n",
      "       for iy in range(maxlen=1000):\n",
      "     sentence[-k:]\n",
      "     possible_keys)\n",
      "     \n",
      "       if t[x][y] = {}\n",
      "       data[i+k]\n",
      "    for ix in range(\n"
     ]
    }
   ],
   "source": [
    "print(generateText(\"import\"))"
   ]
  },
  {
   "cell_type": "code",
   "execution_count": null,
   "metadata": {},
   "outputs": [],
   "source": []
  },
  {
   "cell_type": "code",
   "execution_count": null,
   "metadata": {},
   "outputs": [],
   "source": []
  },
  {
   "cell_type": "code",
   "execution_count": null,
   "metadata": {},
   "outputs": [],
   "source": []
  },
  {
   "cell_type": "code",
   "execution_count": null,
   "metadata": {},
   "outputs": [],
   "source": []
  }
 ],
 "metadata": {
  "kernelspec": {
   "display_name": "Python 3",
   "language": "python",
   "name": "python3"
  },
  "language_info": {
   "codemirror_mode": {
    "name": "ipython",
    "version": 3
   },
   "file_extension": ".py",
   "mimetype": "text/x-python",
   "name": "python",
   "nbconvert_exporter": "python",
   "pygments_lexer": "ipython3",
   "version": "3.6.1"
  }
 },
 "nbformat": 4,
 "nbformat_minor": 2
}
