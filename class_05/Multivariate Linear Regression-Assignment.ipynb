{
 "cells": [
  {
   "cell_type": "markdown",
   "metadata": {},
   "source": [
    "# Generic Gradient Descent\n",
    "- Problem type: Regression with multiple features\n",
    "\n",
    "In this code, we will discuss multivariate gradient descent.\n",
    "\n",
    "### Objective\n",
    "See 3 different types of gradient descent\n",
    "\n",
    "- Batch gradient descent\n",
    "- Stochastic gradient descent\n",
    "- Mini batch gradient descent\n",
    "\n",
    "**Author**: Ashish Gupta"
   ]
  },
  {
   "cell_type": "code",
   "execution_count": 2,
   "metadata": {},
   "outputs": [],
   "source": [
    "import numpy as np\n",
    "import matplotlib.pyplot as plt\n",
    "from sklearn.datasets import make_regression\n",
    "import seaborn as sns"
   ]
  },
  {
   "cell_type": "code",
   "execution_count": 3,
   "metadata": {},
   "outputs": [
    {
     "data": {
      "text/plain": [
       "((100, 3), (100,), numpy.ndarray, numpy.ndarray)"
      ]
     },
     "execution_count": 3,
     "metadata": {},
     "output_type": "execute_result"
    }
   ],
   "source": [
    "X,Y = make_regression(n_samples = 100, n_features=3, noise = 1000.0, n_informative=3, shuffle = True, random_state=3) \n",
    "X.shape,Y.shape, type(X), type(Y)"
   ]
  },
  {
   "cell_type": "code",
   "execution_count": 4,
   "metadata": {},
   "outputs": [
    {
     "data": {
      "text/plain": [
       "array([[ 1.        ,  0.56195167,  1.09465308, -0.29382124],\n",
       "       [ 1.        , -1.15903647,  0.90831872,  1.50326195],\n",
       "       [ 1.        , -1.74411025,  0.28703516,  0.22575027],\n",
       "       [ 1.        , -0.52526465, -0.9064947 , -1.67563463],\n",
       "       [ 1.        ,  0.35081584, -1.41987131,  1.6265736 ]])"
      ]
     },
     "execution_count": 4,
     "metadata": {},
     "output_type": "execute_result"
    }
   ],
   "source": [
    "# Preprocessing step\n",
    "# Our X is almost there, we just need to add 1s in front. X= [1 X]\n",
    "ones = np.ones((X.shape[0],1))\n",
    "ones.shape, X.shape\n",
    "X_appended = np.append(ones, X, axis = 1)\n",
    "X_appended[:5]"
   ]
  },
  {
   "cell_type": "code",
   "execution_count": 5,
   "metadata": {},
   "outputs": [],
   "source": [
    "X= X_appended.copy()"
   ]
  },
  {
   "cell_type": "code",
   "execution_count": 6,
   "metadata": {},
   "outputs": [
    {
     "data": {
      "text/plain": [
       "<matplotlib.axes._subplots.AxesSubplot at 0x7ff96aa64f28>"
      ]
     },
     "execution_count": 6,
     "metadata": {},
     "output_type": "execute_result"
    },
    {
     "data": {
      "image/png": "[encoded data removed]",
      "text/plain": [
       "<Figure size 432x288 with 1 Axes>"
      ]
     },
     "metadata": {
      "needs_background": "light"
     },
     "output_type": "display_data"
    }
   ],
   "source": [
    "# sns is a lot easier to plot. It uses exactly the same code except plt.plot changes to sns.lineplot or sns.scatterplot\n",
    "sns.scatterplot(x = X[:,2], y= Y)\n"
   ]
  },
  {
   "cell_type": "markdown",
   "metadata": {},
   "source": [
    "Large noise is added to see the distinct effect of stochastic, mini batch and batch gradient descent"
   ]
  },
  {
   "cell_type": "code",
   "execution_count": 7,
   "metadata": {},
   "outputs": [],
   "source": [
    "# Helper functions\n",
    "\n",
    "def hypothesis(x,theta):\n",
    "    \n",
    "    # assumes x to be appended with array of 1s in the start\n",
    "    result = np.dot(theta,x.T)\n",
    "    return result\n",
    "\n",
    "def predictions(X,theta):\n",
    "    # stays the same\n",
    "    y_pred = []\n",
    "    \n",
    "    for i in range(X.shape[0]):\n",
    "        pred = hypothesis(X[i],theta)\n",
    "        y_pred.append(pred)\n",
    "    y_pred = np.array(y_pred)\n",
    "    return y_pred\n",
    "    \n",
    "def get_error(X,Y,theta):\n",
    "    # Least Square Error\n",
    "    e = 0\n",
    "    m = X.shape[0]\n",
    "    for i in range(m):\n",
    "        e += (hypothesis(X[i],theta)-Y[i])**2\n",
    "        \n",
    "    return e\n",
    "\n",
    "def getGradients(X,Y,theta):    \n",
    "    grads = np.zeros((X.shape[1]))\n",
    "    n = len(grads) # no. of features inc. bias\n",
    "    m = X.shape[0]\n",
    "    for i in range(m):\n",
    "        YPi = hypothesis(X[i],theta)\n",
    "        for grad_index in range(n):\n",
    "            grads[grad_index] += (YPi - Y[i])* X[i,grad_index]           \n",
    "        \n",
    "    return grads"
   ]
  },
  {
   "cell_type": "markdown",
   "metadata": {},
   "source": [
    "https://www.quora.com/Whats-the-difference-between-gradient-descent-and-stochastic-gradient-descent\n",
    "\n",
    "You can refer to first answer in the link above for the algorithms"
   ]
  },
  {
   "cell_type": "code",
   "execution_count": 8,
   "metadata": {},
   "outputs": [],
   "source": [
    "def gradientDescent(X,Y,maxItr=100,learning_rate=0.001):\n",
    "    \n",
    "    # Write code here\n",
    "    num_features = None\n",
    "    theta = None\n",
    "    #\n",
    "    error = []\n",
    "    \n",
    "    for i in range(maxItr):\n",
    "        # Write code here\n",
    "        grad = None\n",
    "        #\n",
    "        e = get_error(X,Y,theta)\n",
    "        \n",
    "        # for loop for multi feature set\n",
    "        for i in range(num_features):\n",
    "            # Write code here\n",
    "            theta[i]= None\n",
    "            #\n",
    "            \n",
    "        error.append(e)\n",
    "        \n",
    "    return theta,error"
   ]
  },
  {
   "cell_type": "markdown",
   "metadata": {},
   "source": [
    "#### STOCHASTIC GRADIENT DESCENT (SGD)\n",
    "\n",
    "- In GD optimization, we compute the cost gradient based on the complete training set; hence, we sometimes also call it batch GD. In case of very large datasets, using GD can be quite costly since we are only taking a single step for one pass over the training set -- thus, the larger the training set, the slower our algorithm updates the weights and the longer it may take until it converges to the global cost minimum (note that the SSE cost function is convex).\n",
    "\n",
    "- In Stochastic Gradient Descent (SGD; sometimes also referred to as iterative or on-line GD), we don't accumulate the weight updates \n",
    "\n",
    "https://www.quora.com/Whats-the-difference-between-gradient-descent-and-stochastic-gradient-descent\n",
    "\n",
    "You can refer to first answer in the link above for the algorithms\n"
   ]
  },
  {
   "cell_type": "code",
   "execution_count": 9,
   "metadata": {},
   "outputs": [],
   "source": [
    "def stochasticGradientDescent(X,Y,maxItr=100, learning_rate = 0.001):\n",
    "    \n",
    "    # Write code here\n",
    "    num_features = None\n",
    "    theta = None\n",
    "    #\n",
    "    \n",
    "    error = []\n",
    "    \n",
    "    graph_count=0\n",
    "    for i in range(maxItr):\n",
    "        for j in range(len(X)): # j is index of each training example\n",
    "            for k in range(len(theta)):\n",
    "                # Write code here  \n",
    "                theta[k]=None\n",
    "                #\n",
    "                \n",
    "                graph_count+=1\n",
    "                if graph_count%100 == 0:\n",
    "                    e=get_error(X,Y,theta)\n",
    "                    error.append(e)\n",
    "\n",
    "    return theta,error"
   ]
  },
  {
   "cell_type": "markdown",
   "metadata": {},
   "source": [
    "#### MINI-BATCH GRADIENT DESCENT (MB-GD)\n",
    "\n",
    "Mini-Batch Gradient Descent (MB-GD) a compromise between batch GD and SGD. In MB-GD, we update the model based on smaller groups of training samples; instead of computing the gradient from 1 sample (SGD) or all n training samples (GD), we compute the gradient from 1 < k < n training samples (a common mini-batch size is k=50).\n",
    "MB-GD converges in fewer iterations than GD because we update the weights more frequently; however, MB-GD let's us utilize vectorized operation, which typically results in a computational performance gain over SGD.\n",
    "\n",
    "https://www.quora.com/Whats-the-difference-between-gradient-descent-and-stochastic-gradient-descent\n",
    "\n",
    "You can refer to first answer in the link above for the algorithms"
   ]
  },
  {
   "cell_type": "code",
   "execution_count": 10,
   "metadata": {},
   "outputs": [],
   "source": [
    "def miniBatchGradientDescent(X,Y,maxItr=100, learning_rate = 0.001, batch_size = 50):\n",
    "    \n",
    "    # Write code here\n",
    "    num_features = None\n",
    "    theta = None\n",
    "    #\n",
    "    error = []\n",
    "    \n",
    "    for i in range(maxItr):\n",
    "        for batch in range(round(len(X)/(batch_size*1.0))+1): \n",
    "            for k in range(len(theta)):\n",
    "                # Write code here\n",
    "                grad = None\n",
    "                theta[k]= None\n",
    "                #\n",
    "                \n",
    "                e=get_error(X,Y,theta)\n",
    "                error.append(e)\n",
    "\n",
    "    return theta,error"
   ]
  },
  {
   "cell_type": "code",
   "execution_count": 12,
   "metadata": {},
   "outputs": [],
   "source": [
    "plt.figure(1)\n",
    "theta, error= gradientDescent(X,Y,50,0.001)\n",
    "sns.scatterplot(data = np.array(error))\n",
    "plt.title(\"Batch Gradient Descent\")\n",
    "plt.xlabel(\"Iterations\")\n",
    "plt.ylabel(\"Error\")\n",
    "\n",
    "plt.figure(2)\n",
    "theta_stochastic, error_stochastic= stochasticGradientDescent(X,Y,50,0.001)\n",
    "sns.lineplot(data = np.array(error_stochastic))\n",
    "plt.title(\"Stochastic Gradient Descent\")\n",
    "plt.xlabel(\"Iterations\")\n",
    "plt.ylabel(\"Error\")\n",
    "                                      \n",
    "plt.figure(3)\n",
    "theta_stochastic, error_stochastic= miniBatchGradientDescent(X,Y,50,0.001, batch_size=50)\n",
    "sns.lineplot(data = np.array(error_stochastic))\n",
    "plt.title(\"Mini Batch Gradient Descent\")\n",
    "plt.xlabel(\"Iterations\")\n",
    "plt.ylabel(\"Error\")\n",
    "\n",
    "plt.show()"
   ]
  },
  {
   "cell_type": "markdown",
   "metadata": {},
   "source": [
    "Note that the error is of the order e^7. This is because of noise = 1000, the huge error is natural. It was done to show the zig zag nature of cost at convergence. Stochastic gradient descent is pseudo convex and it almost always converges ( You never have to worry about whether it will converge or not)"
   ]
  }
 ],
 "metadata": {
  "kernelspec": {
   "display_name": "Python 3",
   "language": "python",
   "name": "python3"
  },
  "language_info": {
   "codemirror_mode": {
    "name": "ipython",
    "version": 3
   },
   "file_extension": ".py",
   "mimetype": "text/x-python",
   "name": "python",
   "nbconvert_exporter": "python",
   "pygments_lexer": "ipython3",
   "version": "3.6.0"
  }
 },
 "nbformat": 4,
 "nbformat_minor": 2
}
